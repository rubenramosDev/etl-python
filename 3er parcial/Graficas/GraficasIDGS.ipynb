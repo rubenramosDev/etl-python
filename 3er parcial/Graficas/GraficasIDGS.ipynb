{
 "cells": [
  {
   "cell_type": "code",
   "execution_count": 85,
   "metadata": {},
   "outputs": [],
   "source": [
    "#Importando pandas y numpy\n",
    "import pandas as pd\n",
    "import numpy as np\n",
    "import seaborn as sns \n",
    "from numpy.random import randn\n",
    "np.random.seed(101)\n",
    "import plotly.figure_factory as ff\n",
    "import plotly.express as px\n",
    "\n",
    "import matplotlib.pyplot as plt\n",
    "%matplotlib inline\n",
    "import warnings \n",
    "\n",
    "import nltk\n",
    "from nltk.corpus import stopwords\n",
    "from wordcloud import WordCloud, STOPWORDS, ImageColorGenerator\n",
    "from PIL import Image\n",
    "import sys, os\n",
    "\n",
    "df = pd.read_csv('FinalEncuestasCovid.csv',  encoding = 'utf-8')"
   ]
  },
  {
   "cell_type": "code",
   "execution_count": null,
   "metadata": {},
   "outputs": [],
   "source": [
    "#Porcentaje de población de mujeres y hombres:\n",
    "df_valor = df[\"pregunta_4\"].value_counts()\n",
    "df_etiqueta = df[\"pregunta_4\"].unique()\n",
    "extraccion = 0.1, 0.1, 0.1, 0.1\n",
    "colors = ['tab:green', 'tab:red', 'tab:gray', 'tab:orange', 'tab:red']\n",
    "\n",
    "fig, ax = plt.subplots(figsize=(9,9))\n",
    "plt.pie(df_valor, \n",
    "        labels = df_etiqueta, \n",
    "        autopct = '%.0f%%', \n",
    "        colors=colors,\n",
    "        shadow=False)\n",
    "\n",
    "ax.set_title('Porcentaje de hombres y mujeres ',fontsize=15)\n",
    "ax.legend()\n",
    "plt.rcParams.update({'font.size': 20})"
   ]
  },
  {
   "cell_type": "code",
   "execution_count": 26,
   "metadata": {},
   "outputs": [
    {
     "data": {
      "text/plain": [
       "<Figure size 648x216 with 0 Axes>"
      ]
     },
     "metadata": {},
     "output_type": "display_data"
    },
    {
     "data": {
      "image/png": "[encoded data removed]",
      "text/plain": [
       "<Figure size 648x432 with 1 Axes>"
      ]
     },
     "metadata": {
      "needs_background": "light"
     },
     "output_type": "display_data"
    }
   ],
   "source": [
    "#Cantidad de hombres y mujeres\n",
    "by_genero= df.groupby(\"pregunta_4\").size().reset_index(name=\"Cantidad\")\n",
    "\n",
    "plt.figure(figsize=(9, 3))\n",
    "g = sns.catplot(kind='bar', data=by_genero, x='pregunta_4', y='Cantidad', height=6, aspect=1.5)\n",
    "g.set_axis_labels(x_var=\"Disposición de un espacio de trabajo específico en casa\", y_var=\"Total\", fontsize=15)\n",
    "plt.title('Cantidad de mujeres y hombres',fontsize=18)\n",
    "\n",
    "for ax in g.axes.flat:\n",
    "    ax.bar_label(ax.containers[0], label_type='edge')\n",
    "\n",
    "    ax.margins(y=0.1)"
   ]
  },
  {
   "cell_type": "markdown",
   "metadata": {},
   "source": [
    "### Preguntas de 1 a 5"
   ]
  },
  {
   "cell_type": "code",
   "execution_count": null,
   "metadata": {},
   "outputs": [],
   "source": [
    "#1. Distribución de la población por estado.\n",
    "df_valor = df[\"pregunta_1\"].value_counts()\n",
    "df_etiqueta = df[\"pregunta_1\"].unique()\n",
    "extraccion = 0.1, 0.1, 0.1, 0.1\n",
    "colors = ['tab:cyan', 'tab:green', 'tab:purple', 'tab:orange', 'tab:red']\n",
    "\n",
    "fig, ax = plt.subplots(figsize=(9,9))\n",
    "plt.pie(df_valor, \n",
    "        labels = df_etiqueta, \n",
    "        autopct = '%.0f%%', \n",
    "        colors=colors,\n",
    "        shadow=False)\n",
    "\n",
    "ax.set_title('1.Distribución porcentual de la población por estados',fontsize=15)\n",
    "\n",
    "ax.legend()\n",
    "\n",
    "plt.rcParams.update({'font.size': 15})\n"
   ]
  },
  {
   "cell_type": "code",
   "execution_count": null,
   "metadata": {},
   "outputs": [],
   "source": [
    "#2. Distribución de la población por carrera\n",
    "df_valor = df[\"pregunta_5\"].value_counts()\n",
    "df_etiqueta = df[\"pregunta_5\"].unique()\n",
    "extraccion = 0.1, 0.1, 0.1, 0.1\n",
    "colors = ['tab:orange', 'tab:cyan', 'tab:gray', 'tab:blue', 'tab:red']\n",
    "\n",
    "fig, ax = plt.subplots(figsize=(9,9))\n",
    "plt.pie(df_valor, \n",
    "        labels = df_etiqueta, \n",
    "        autopct = '%.0f%%', \n",
    "        colors=colors,\n",
    "        shadow=False)\n",
    "\n",
    "ax.set_title('2. Distribución porcentual de la población por carrera ',fontsize=15)\n",
    "\n",
    "plt.rcParams.update({'font.size': 20})"
   ]
  },
  {
   "cell_type": "code",
   "execution_count": null,
   "metadata": {},
   "outputs": [],
   "source": [
    "#3. Se disponía de un espacio específico de trabajo en casa\n",
    "by_espa= df.groupby(\"pregunta_8\").size().reset_index(name=\"Cantidad\")\n",
    "\n",
    "plt.figure(figsize=(9, 3))\n",
    "g = sns.catplot(kind='bar', data=by_espa, x='pregunta_8', y='Cantidad', height=6, aspect=1.5)\n",
    "g.set_axis_labels(x_var=\"Disposición de un espacio de trabajo específico en casa\", y_var=\"Total\", fontsize=15)\n",
    "plt.title('3.Disponibilidad de un espacio específico de trabajo en casa',fontsize=18)\n",
    "\n",
    "for ax in g.axes.flat:\n",
    "    ax.bar_label(ax.containers[0], label_type='edge')\n",
    "\n",
    "    ax.margins(y=0.1)"
   ]
  },
  {
   "cell_type": "code",
   "execution_count": null,
   "metadata": {},
   "outputs": [],
   "source": [
    "#4. Se contaba con internet al inicio de la pandemia.\n",
    "df_valor = df[\"pregunta_9\"].value_counts()\n",
    "df_etiqueta = df[\"pregunta_9\"].unique()\n",
    "colors = ['tab:green', 'tab:red', 'tab:gray', 'tab:orange', 'tab:red']\n",
    "\n",
    "fig, ax = plt.subplots(figsize=(9,9))\n",
    "plt.pie(df_valor, \n",
    "        labels = df_etiqueta, \n",
    "        autopct = '%.0f%%', \n",
    "        colors=colors,\n",
    "        shadow=False)\n",
    "\n",
    "ax.set_title('4. Disponibilidad de internet al inicio de la pantemia ',fontsize=15)\n",
    "ax.legend()\n",
    "plt.rcParams.update({'font.size': 20})"
   ]
  },
  {
   "cell_type": "code",
   "execution_count": null,
   "metadata": {},
   "outputs": [],
   "source": [
    "#5. Cuanto se pagaba por el servicio de internet\n",
    "df_valor = df[\"pregunta_10\"].value_counts()\n",
    "df_etiqueta = df[\"pregunta_10\"].unique()\n",
    "extraccion = 0.1, 0.1, 0.1, 0.1\n",
    "colors = [\"#EE6055\",\"#60D394\",\"#AAF683\", \"#FFD97D\"]\n",
    "\n",
    "fig, ax = plt.subplots(figsize=(9,9))\n",
    "plt.pie(df_valor, \n",
    "        labels = df_etiqueta, \n",
    "        autopct = '%.0f%%', \n",
    "        colors=colors,\n",
    "        shadow=False)\n",
    "\n",
    "ax.set_title('5. Total del pago por el servicio de internet',fontsize=18)\n",
    "ax.legend()\n",
    "plt.rcParams.update({'font.size': 13})"
   ]
  },
  {
   "cell_type": "markdown",
   "metadata": {},
   "source": [
    "### Preguntas de 6 a 9"
   ]
  },
  {
   "cell_type": "code",
   "execution_count": null,
   "metadata": {},
   "outputs": [],
   "source": [
    "#Pregunta 6\n",
    "df_valor = df[\"pregunta_11\"].value_counts()\n",
    "df_etiqueta = df[\"pregunta_11\"].unique()\n",
    "fig, ax = plt.subplots(figsize=(9,9))\n",
    "\n",
    "plt.pie(df_valor, \n",
    "        labels = df_etiqueta, \n",
    "        autopct = \"%0.0f %%\")\n",
    "\n",
    "ax.set_title(\"7. ¿Tipo de dispositivos utilizados con mayor frecuencia para tomar las clases en línea? \\n\",\n",
    "        fontsize=15,\n",
    "        fontweight=\"bold\")\n",
    "\n",
    "plt.rcParams.update({'font.size': 9, 'font.weight' : 'bold'})\n",
    "ax.legend()"
   ]
  },
  {
   "cell_type": "code",
   "execution_count": null,
   "metadata": {
    "scrolled": true
   },
   "outputs": [],
   "source": [
    "#Pregunta 7\n",
    "df_valor = df[\"pregunta_12\"].value_counts()\n",
    "df_etiqueta = df[\"pregunta_12\"].unique()\n",
    "fig, ax = plt.subplots(figsize=(9,9))\n",
    "\n",
    "plt.pie(df_valor, \n",
    "        labels = df_etiqueta, \n",
    "        autopct = \"%0.0f %%\")\n",
    "\n",
    "ax.set_title(\"7. ¿Se tuvo la necesidad de comprar algún dispositivo para poder tomar las clases en línea? \\n\",\n",
    "        fontsize=15,\n",
    "        fontweight=\"bold\")\n",
    "\n",
    "plt.rcParams.update({'font.size': 9, 'font.weight' : 'bold'})\n",
    "ax.legend()"
   ]
  },
  {
   "cell_type": "code",
   "execution_count": null,
   "metadata": {
    "scrolled": true
   },
   "outputs": [],
   "source": [
    "#Pregunta 8\n",
    "df_valor = df[\"pregunta_14\"].value_counts()\n",
    "df_etiqueta = df[\"pregunta_14\"].unique()\n",
    "fig, ax = plt.subplots(figsize=(9,9))\n",
    "\n",
    "plt.pie(df_valor, \n",
    "        labels = df_etiqueta, \n",
    "        autopct = \"%0.0f %%\")\n",
    "\n",
    "ax.set_title(\"8. ¿Qué tan complicado fue el manejar las plataformas de educación en línea? \\n\",\n",
    "        fontsize=15,\n",
    "        fontweight=\"bold\")\n",
    "\n",
    "plt.rcParams.update({'font.size': 9, 'font.weight' : 'bold'})\n",
    "ax.legend()\n"
   ]
  },
  {
   "cell_type": "code",
   "execution_count": null,
   "metadata": {},
   "outputs": [],
   "source": [
    "#Pregunta 9\n",
    "df_valor = df[\"pregunta_15\"].value_counts()\n",
    "df_etiqueta = df[\"pregunta_15\"].unique()\n",
    "fig, ax = plt.subplots(figsize=(9,9))\n",
    "\n",
    "plt.pie(df_valor, \n",
    "        labels = df_etiqueta, \n",
    "        autopct = \"%0.0f %%\")\n",
    "\n",
    "ax.set_title(\"9.Formas de evaluación online que utilizaban las maestras y los maestros para evaluar \\n\",\n",
    "        fontsize=15,\n",
    "        fontweight=\"bold\")\n",
    "\n",
    "plt.rcParams.update({'font.size': 9, 'font.weight' : 'bold'})\n",
    "ax.legend()"
   ]
  },
  {
   "cell_type": "markdown",
   "metadata": {},
   "source": [
    "### Preguntas de 10 a 13"
   ]
  },
  {
   "cell_type": "code",
   "execution_count": null,
   "metadata": {},
   "outputs": [],
   "source": []
  },
  {
   "cell_type": "markdown",
   "metadata": {},
   "source": [
    "### Preguntas de 14 a 18"
   ]
  },
  {
   "cell_type": "code",
   "execution_count": null,
   "metadata": {},
   "outputs": [],
   "source": [
    "#Pregunta 14\n",
    "df_valor = df[\"pregunta_21\"].value_counts()\n",
    "df_etiqueta = df[\"pregunta_21\"].unique()\n",
    "fig, ax = plt.subplots(figsize=(7,7))\n",
    "\n",
    "plt.pie(df_valor, autopct = \"%0.0f %%\")\n",
    "\n",
    "ax.set_title(\"14. Que tan fácil era la comprensión de los temas\",\n",
    "        fontsize=15,\n",
    "        fontweight=\"bold\")\n",
    "\n",
    "plt.rcParams.update({'font.size': 12, 'font.weight' : 'bold'})\n",
    "ax.legend(labels = df_etiqueta)"
   ]
  },
  {
   "cell_type": "code",
   "execution_count": null,
   "metadata": {},
   "outputs": [],
   "source": [
    "#Pregunta 15\n",
    "df_valor = df[\"pregunta_22\"].value_counts()\n",
    "df_etiqueta = df[\"pregunta_22\"].unique()\n",
    "fig, ax = plt.subplots(figsize=(7,7))\n",
    "\n",
    "plt.pie(df_valor, autopct = \"%0.0f %%\")\n",
    "\n",
    "ax.set_title(\"15. Tiempo dedicado, de lunes a viernes, a las actividades de aprendizaje \\n (clases, hacer tareas, estudiar, lectura) \\n\",\n",
    "        fontsize=15,\n",
    "        fontweight=\"bold\")\n",
    "\n",
    "plt.rcParams.update({'font.size': 12, 'font.weight' : 'bold'})\n",
    "ax.legend(labels = df_etiqueta)"
   ]
  },
  {
   "cell_type": "code",
   "execution_count": null,
   "metadata": {},
   "outputs": [],
   "source": [
    "#Pregunta 16\n",
    "df_valor = df[\"pregunta_23\"].value_counts()\n",
    "df_etiqueta = df[\"pregunta_23\"].unique()\n",
    "fig, ax = plt.subplots(figsize=(7,7))\n",
    "\n",
    "plt.pie(df_valor, autopct = \"%0.0f %%\")\n",
    "\n",
    "ax.set_title(\"16. Durante el tiempo de las clases a distancia, crees que aprendiste \\n\",\n",
    "        fontsize=15,\n",
    "        fontweight=\"bold\")\n",
    "\n",
    "plt.rcParams.update({'font.size': 12, 'font.weight' : 'bold'})\n",
    "ax.legend(labels = df_etiqueta)"
   ]
  },
  {
   "cell_type": "code",
   "execution_count": null,
   "metadata": {},
   "outputs": [],
   "source": [
    "#Pregunta 17\n",
    "df_valor = df[\"pregunta_24\"].value_counts()\n",
    "df_etiqueta = df[\"pregunta_24\"].unique()\n",
    "fig, ax = plt.subplots(figsize=(7,7))\n",
    "\n",
    "plt.pie(df_valor, autopct = \"%0.0f %%\")\n",
    "\n",
    "ax.set_title(\"17. Extrañabas convivir con tus maestras y maestros \\n\",\n",
    "        fontsize=15,\n",
    "        fontweight=\"bold\")\n",
    "\n",
    "plt.rcParams.update({'font.size': 12, 'font.weight' : 'bold'})\n",
    "ax.legend(labels = df_etiqueta)"
   ]
  },
  {
   "cell_type": "code",
   "execution_count": null,
   "metadata": {},
   "outputs": [],
   "source": [
    "#Pregunta 18\n",
    "df_valor = df[\"pregunta_26\"].value_counts()\n",
    "df_etiqueta = df[\"pregunta_26\"].unique()\n",
    "fig, ax = plt.subplots(figsize=(7,7))\n",
    "\n",
    "plt.pie(df_valor, autopct = \"%0.0f %%\")\n",
    "\n",
    "ax.set_title(\"18. Extrañaba asistir a la Universidad.\\n\",\n",
    "        fontsize=15,\n",
    "        fontweight=\"bold\")\n",
    "\n",
    "plt.rcParams.update({'font.size': 12, 'font.weight' : 'bold'})\n",
    "ax.legend(labels = df_etiqueta)"
   ]
  },
  {
   "cell_type": "markdown",
   "metadata": {},
   "source": [
    "### Preguntas de 19 a 22"
   ]
  },
  {
   "cell_type": "code",
   "execution_count": null,
   "metadata": {},
   "outputs": [],
   "source": [
    "#Pregunta 19\n",
    "df_valor = df[\"pregunta_27\"].value_counts()\n",
    "df_etiqueta = df[\"pregunta_27\"].unique()\n",
    "fig, ax = plt.subplots(figsize=(7,7))\n",
    "\n",
    "plt.pie(df_valor, autopct = \"%0.0f %%\")\n",
    "\n",
    "ax.set_title(\"19. En algún momento te llegaste a sentir agredido durante \\n clases virtuales por tus compañeros o compañeras.\\n\",\n",
    "        fontsize=15,\n",
    "        fontweight=\"bold\")\n",
    "\n",
    "plt.rcParams.update({'font.size': 12, 'font.weight' : 'bold'})\n",
    "ax.legend(labels = df_etiqueta)"
   ]
  },
  {
   "cell_type": "code",
   "execution_count": null,
   "metadata": {},
   "outputs": [],
   "source": [
    "#Pregunta 20\n",
    "from turtle import color\n",
    "\n",
    "df_valor = df[\"pregunta_28\"].value_counts()\n",
    "fig, ax = plt.subplots(figsize=(7,7))\n",
    "colors = [\"#FE2E2E\",\"#FE642E\",\"#FE9A2E\", \"#FACC2E\", \"#F7FE2E\",\n",
    "          \"#C8FE2E\", \"#9AFE2E\", \"#64FE2E\", \"#2EFE2E\", \"#2EFE64\", \n",
    "          \"#2EFE9A\", \"#2EFEC8\", \"#2EFEF7\", \"#2ECCFA\", \"#2E9AFE\", ]\n",
    "\n",
    "plt.barh(df_valor.index, df_valor, color = colors)\n",
    "ax.set_title(\"20. Durante el confinamiento, qué actividades tuviste que compatibilizar. \\n\",\n",
    "        fontsize=15,\n",
    "        fontweight=\"bold\")\n",
    "        \n",
    "plt.grid(True)\n",
    "plt.xlabel('Cantidad de respuestas identicas', fontsize=11, fontweight=\"bold\")\n",
    "plt.ylabel('Cantidad de respuestas', fontsize=11, fontweight=\"bold\")"
   ]
  },
  {
   "cell_type": "code",
   "execution_count": null,
   "metadata": {},
   "outputs": [],
   "source": [
    "#Pregunta 21\n",
    "df_valor = df[\"pregunta_29\"].value_counts()\n",
    "df_etiqueta = df[\"pregunta_29\"].unique()\n",
    "fig, ax = plt.subplots(figsize=(7,7))\n",
    "\n",
    "plt.pie(df_valor, autopct = \"%0.0f %%\")\n",
    "\n",
    "ax.set_title(\"21. Preferirías continuar tus estudios en modalidad virtual.\\n\",\n",
    "        fontsize=15,\n",
    "        fontweight=\"bold\")\n",
    "\n",
    "plt.rcParams.update({'font.size': 12, 'font.weight' : 'bold'})\n",
    "ax.legend(labels = df_etiqueta)"
   ]
  },
  {
   "cell_type": "code",
   "execution_count": null,
   "metadata": {},
   "outputs": [],
   "source": [
    "\n",
    "#Pregunta 22\n",
    "df_valor = df[\"pregunta_30\"]\n",
    "comment_words = '' \n",
    "stop_words = set(stopwords.words('spanish')) \n",
    "  \n",
    "mask = np.array(Image.open(\"cloud.png\"))\n",
    "mask[mask == 1] = 255\n",
    "\n",
    "for val in df_valor: \n",
    "    val = str(val) \n",
    "    tokens = val.split() \n",
    "    for i in range(len(tokens)): \n",
    "        tokens[i] = tokens[i].lower() \n",
    "      \n",
    "    comment_words += \" \".join(tokens)+\" \"\n",
    "  \n",
    "wordcloud = WordCloud(width = 1500, height = 1500, \n",
    "                background_color ='white', \n",
    "                stopwords = stop_words,\n",
    "                mask = mask,\n",
    "                min_font_size = 10).generate(comment_words) \n",
    "  \n",
    "plt.figure(figsize = (7, 7), facecolor = None) \n",
    "plt.imshow(wordcloud) \n",
    "plt.axis(\"off\") \n",
    "plt.tight_layout(pad = 0) \n",
    "  \n",
    "plt.show() "
   ]
  }
 ],
 "metadata": {
  "kernelspec": {
   "display_name": "Python 3 (ipykernel)",
   "language": "python",
   "name": "python3"
  },
  "language_info": {
   "codemirror_mode": {
    "name": "ipython",
    "version": 3
   },
   "file_extension": ".py",
   "mimetype": "text/x-python",
   "name": "python",
   "nbconvert_exporter": "python",
   "pygments_lexer": "ipython3",
   "version": "3.9.12"
  },
  "vscode": {
   "interpreter": {
    "hash": "fb833273add3e7c60eb33c0608260b79a61e072ade6f02cc8d07b0a26eef8ab8"
   }
  }
 },
 "nbformat": 4,
 "nbformat_minor": 2
}

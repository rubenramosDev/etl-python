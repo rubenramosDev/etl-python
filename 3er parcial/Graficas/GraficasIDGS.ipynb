{
 "cells": [
  {
   "cell_type": "code",
   "execution_count": 2,
   "metadata": {},
   "outputs": [],
   "source": [
    "#Importando pandas y numpy\n",
    "import pandas as pd\n",
    "import numpy as np\n",
    "import seaborn as sns \n",
    "from numpy.random import randn\n",
    "np.random.seed(101)\n",
    "import plotly.figure_factory as ff\n",
    "import plotly.express as px\n",
    "\n",
    "import matplotlib.pyplot as plt\n",
    "import warnings \n",
    "\n",
    "import nltk\n",
    "from nltk.corpus import stopwords\n",
    "from datetime import datetime\n",
    "\n",
    "#Importando la libreria de matplotlib\n",
    "import matplotlib.pyplot as plt\n",
    "#Para ver las graficas en jupyter notebooks \n",
    "%matplotlib inline\n",
    "\n",
    "df = pd.read_csv('FinalEncuestasCovid.csv',  encoding = 'utf-8')"
   ]
  },
  {
   "cell_type": "code",
   "execution_count": null,
   "metadata": {},
   "outputs": [],
   "source": []
  },
  {
   "cell_type": "markdown",
   "metadata": {},
   "source": [
    "### Preguntas de 1 a 5"
   ]
  },
  {
   "cell_type": "code",
   "execution_count": null,
   "metadata": {},
   "outputs": [],
   "source": [
    "#1. Distribución de la población por estado.\n",
    "df_valor = df[\"pregunta_1\"].value_counts()\n",
    "df_etiqueta = df[\"pregunta_1\"].unique()\n",
    "extraccion = 0.1, 0.1, 0.1, 0.1\n",
    "colors = ['tab:cyan', 'tab:green', 'tab:purple', 'tab:orange', 'tab:red']\n",
    "\n",
    "fig, ax = plt.subplots(figsize=(9,9))\n",
    "plt.pie(df_valor, \n",
    "        labels = df_etiqueta, \n",
    "        autopct = '%.0f%%', \n",
    "        colors=colors,\n",
    "        shadow=False)\n",
    "\n",
    "ax.set_title('1. Distribución de la población por estado',fontsize=15)\n",
    "\n",
    "ax.legend()\n",
    "\n",
    "plt.rcParams.update({'font.size': 15})\n"
   ]
  },
  {
   "cell_type": "code",
   "execution_count": null,
   "metadata": {},
   "outputs": [],
   "source": [
    "#2. Distribución de la población por carrera\n",
    "df_valor = df[\"pregunta_5\"].value_counts()\n",
    "df_etiqueta = df[\"pregunta_5\"].unique()\n",
    "extraccion = 0.1, 0.1, 0.1, 0.1\n",
    "colors = ['tab:orange', 'tab:cyan', 'tab:gray', 'tab:blue', 'tab:red']\n",
    "\n",
    "fig, ax = plt.subplots(figsize=(9,9))\n",
    "plt.pie(df_valor, \n",
    "        labels = df_etiqueta, \n",
    "        autopct = '%.0f%%', \n",
    "        colors=colors,\n",
    "        shadow=False)\n",
    "\n",
    "ax.set_title('2. Distribución de la población por carrera ',fontsize=15)\n",
    "\n",
    "plt.rcParams.update({'font.size': 20})"
   ]
  },
  {
   "cell_type": "code",
   "execution_count": null,
   "metadata": {},
   "outputs": [],
   "source": [
    "#3. Se disponía de un espacio específico de trabajo en casa\n",
    "by_espa= df.groupby(\"pregunta_8\").size().reset_index(name=\"Cantidad\")\n",
    "\n",
    "plt.figure(figsize=(9, 3))\n",
    "g = sns.catplot(kind='bar', data=by_espa, x='pregunta_8', y='Cantidad', height=6, aspect=1.5)\n",
    "g.set_axis_labels(x_var=\"Disposición de un espacio de trabajo específico en casa\", y_var=\"Total\", fontsize=15)\n",
    "plt.title('3. Se disponía de un espacio específico de trabajo en casa',fontsize=18)\n",
    "\n",
    "for ax in g.axes.flat:\n",
    "    ax.bar_label(ax.containers[0], label_type='edge')\n",
    "\n",
    "    ax.margins(y=0.1)"
   ]
  },
  {
   "cell_type": "code",
   "execution_count": null,
   "metadata": {},
   "outputs": [],
   "source": [
    "#4. Se contaba con internet al inicio de la pandemia.\n",
    "df_valor = df[\"pregunta_9\"].value_counts()\n",
    "df_etiqueta = df[\"pregunta_9\"].unique()\n",
    "colors = ['tab:green', 'tab:red', 'tab:gray', 'tab:orange', 'tab:red']\n",
    "\n",
    "fig, ax = plt.subplots(figsize=(9,9))\n",
    "plt.pie(df_valor, \n",
    "        labels = df_etiqueta, \n",
    "        autopct = '%.0f%%', \n",
    "        colors=colors,\n",
    "        shadow=False)\n",
    "\n",
    "ax.set_title('4. Se contaba con internet al inicio de la pandemia ',fontsize=15)\n",
    "ax.legend()\n",
    "plt.rcParams.update({'font.size': 20})"
   ]
  },
  {
   "cell_type": "code",
   "execution_count": null,
   "metadata": {},
   "outputs": [],
   "source": [
    "#5. Cuanto se pagaba por el servicio de internet\n",
    "by_pago= df.groupby(\"pregunta_10\").size().reset_index(name=\"Cantidad\")\n",
    "plt.figure(figsize=(9, 3))\n",
    "g = sns.catplot(kind='bar', data=by_pago, x='pregunta_10', y='Cantidad', height=6, aspect=1.5)\n",
    "g.set_axis_labels(x_var=\"Pago por servicio de internet\", y_var=\"Total\", fontsize=15)\n",
    "plt.title('5. Cuanto se pagaba por el servicio de internet',fontsize=18)\n",
    "\n",
    "for ax in g.axes.flat:\n",
    "    ax.bar_label(ax.containers[0], label_type='edge')\n",
    "\n",
    "    ax.margins(y=0.1)"
   ]
  },
  {
   "cell_type": "markdown",
   "metadata": {},
   "source": [
    "### Preguntas de 6 a 9"
   ]
  },
  {
   "cell_type": "code",
   "execution_count": null,
   "metadata": {},
   "outputs": [],
   "source": []
  },
  {
   "cell_type": "markdown",
   "metadata": {},
   "source": [
    "### Preguntas de 10 a 13"
   ]
  },
  {
   "cell_type": "code",
   "execution_count": null,
   "metadata": {},
   "outputs": [],
   "source": []
  },
  {
   "cell_type": "markdown",
   "metadata": {},
   "source": [
    "### Preguntas de 14 a 18"
   ]
  },
  {
   "cell_type": "code",
   "execution_count": null,
   "metadata": {},
   "outputs": [],
   "source": [
    "#Pregunta 14\n",
    "df_valor = df[\"pregunta_14\"].value_counts()\n",
    "df_etiqueta = df[\"pregunta_14\"].unique()\n",
    "fig, ax = plt.subplots(figsize=(9,9))\n",
    "\n",
    "plt.pie(df_valor, \n",
    "        labels = df_etiqueta, \n",
    "        autopct = \"%0.0f %%\")\n",
    "\n",
    "ax.set_title(\"14. Que tan fácil era la comprensión de los temas\\n\",\n",
    "        fontsize=15,\n",
    "        fontweight=\"bold\")\n",
    "\n",
    "plt.rcParams.update({'font.size': 9, 'font.weight' : 'bold'})\n",
    "ax.legend()"
   ]
  },
  {
   "cell_type": "code",
   "execution_count": null,
   "metadata": {},
   "outputs": [],
   "source": [
    "#Pregunta 15\n",
    "df_valor = df[\"pregunta_15\"].value_counts()\n",
    "df_etiqueta = df[\"pregunta_15\"].unique()\n",
    "fig, ax = plt.subplots(figsize=(7,7))\n",
    "\n",
    "plt.pie(df_valor, autopct = \"%0.0f %%\")\n",
    "\n",
    "ax.set_title(\"15. Tiempo dedicado, de lunes a viernes, a las actividades de aprendizaje \\n (clases, hacer tareas, estudiar, lectura) \\n\",\n",
    "        fontsize=16,\n",
    "        fontweight=\"bold\")\n",
    "\n",
    "plt.rcParams.update({'font.size': 10, 'font.weight' : 'bold'})\n",
    "ax.legend(labels = df_etiqueta)"
   ]
  },
  {
   "cell_type": "code",
   "execution_count": null,
   "metadata": {},
   "outputs": [],
   "source": [
    "#Pregunta 16\n",
    "df_valor = df[\"pregunta_16\"].value_counts()\n",
    "df_etiqueta = df[\"pregunta_16\"].unique()\n",
    "fig, ax = plt.subplots(figsize=(7,7))\n",
    "\n",
    "plt.pie(df_valor, autopct = \"%0.0f %%\")\n",
    "\n",
    "ax.set_title(\"16. Durante el tiempo de las clases a distancia, crees que aprendiste \\n\",\n",
    "        fontsize=15,\n",
    "        fontweight=\"bold\")\n",
    "\n",
    "plt.rcParams.update({'font.size': 9, 'font.weight' : 'bold'})\n",
    "ax.legend(labels = df_etiqueta)"
   ]
  },
  {
   "cell_type": "code",
   "execution_count": null,
   "metadata": {},
   "outputs": [],
   "source": [
    "#Pregunta 17\n",
    "df_valor = df[\"pregunta_17\"].value_counts()\n",
    "df_etiqueta = df[\"pregunta_17\"].unique()\n",
    "fig, ax = plt.subplots(figsize=(7,7))\n",
    "\n",
    "plt.pie(df_valor, autopct = \"%0.0f %%\")\n",
    "\n",
    "ax.set_title(\"17. Extrañabas convivir con tus maestras y maestros \\n\",\n",
    "        fontsize=15,\n",
    "        fontweight=\"bold\")\n",
    "\n",
    "plt.rcParams.update({'font.size': 9, 'font.weight' : 'bold'})\n",
    "ax.legend(labels = df_etiqueta)"
   ]
  },
  {
   "cell_type": "code",
   "execution_count": null,
   "metadata": {},
   "outputs": [],
   "source": [
    "#Pregunta 18\n",
    "df_valor = df[\"pregunta_18\"].value_counts()\n",
    "df_etiqueta = df[\"pregunta_18\"].unique()\n",
    "fig, ax = plt.subplots(figsize=(20,20))\n",
    "\n",
    "plt.pie(df_valor, autopct = \"%0.0f %%\")\n",
    "\n",
    "ax.set_title(\"18. Extrañaba asistir a la Universidad.\\n\",\n",
    "        fontsize=20,\n",
    "        fontweight=\"bold\")\n",
    "\n",
    "plt.rcParams.update({'font.size': 8, 'font.weight' : 'bold'})\n",
    "ax.legend(labels = df_etiqueta)"
   ]
  },
  {
   "cell_type": "markdown",
   "metadata": {},
   "source": [
    "### Preguntas de 19 a 22"
   ]
  },
  {
   "cell_type": "code",
   "execution_count": null,
   "metadata": {},
   "outputs": [],
   "source": []
  }
 ],
 "metadata": {
  "kernelspec": {
   "display_name": "Python 3.9.12 ('base')",
   "language": "python",
   "name": "python3"
  },
  "language_info": {
   "codemirror_mode": {
    "name": "ipython",
    "version": 3
   },
   "file_extension": ".py",
   "mimetype": "text/x-python",
   "name": "python",
   "nbconvert_exporter": "python",
   "pygments_lexer": "ipython3",
   "version": "3.9.12"
  },
  "orig_nbformat": 4,
  "vscode": {
   "interpreter": {
    "hash": "fb833273add3e7c60eb33c0608260b79a61e072ade6f02cc8d07b0a26eef8ab8"
   }
  }
 },
 "nbformat": 4,
 "nbformat_minor": 2
}
